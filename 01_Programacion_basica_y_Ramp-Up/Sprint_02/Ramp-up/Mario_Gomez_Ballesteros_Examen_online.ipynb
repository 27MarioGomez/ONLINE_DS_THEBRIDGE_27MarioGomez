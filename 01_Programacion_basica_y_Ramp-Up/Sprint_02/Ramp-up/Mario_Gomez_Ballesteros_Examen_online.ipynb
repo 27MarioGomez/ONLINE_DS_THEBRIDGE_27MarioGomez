{
 "cells": [
  {
   "cell_type": "markdown",
   "id": "1f1401c1-4dc9-4902-95bf-160715a42a25",
   "metadata": {},
   "source": [
    "# Prueba de Ramp-up"
   ]
  },
  {
   "cell_type": "markdown",
   "id": "1b34c670-a6dd-482d-9b04-5babee7be17a",
   "metadata": {},
   "source": [
    "Antes de comenzar, cambia el nombre del archivo notebook poniéndole delante tu nombre y primer apellido:\n",
    "\n",
    "* ``<nombre_apellido>_examen_online.ipynb``"
   ]
  },
  {
   "cell_type": "code",
   "execution_count": 1,
   "id": "c8d9a657-272c-425a-9ac4-ea59f479673c",
   "metadata": {},
   "outputs": [],
   "source": [
    "# Escribe tu nombre en la variable:\n",
    "nombre_y_apellidos = \"Mario Gómez Ballesteros\" "
   ]
  },
  {
   "cell_type": "code",
   "execution_count": 2,
   "id": "2e9f9af5-076c-44ec-9a80-95c0e99cdc58",
   "metadata": {},
   "outputs": [],
   "source": [
    "\"\"\"\n",
    "Criterios de corrección:\n",
    "\n",
    "ejecución (ausencia de errores y obtención de resultados)\n",
    "estructura del código\n",
    "uso correcto de variables\n",
    "manejo de tipo de variables\n",
    "asignaciones\n",
    "operaciones booleanas\n",
    "manejo lógico de flujos de control y bucles\n",
    "uso de colecciones\n",
    "uso de funciones\n",
    "\"\"\";\n",
    "\n",
    "# Ejemplo de como queremos ver el código para más de un intento:\n",
    "\n",
    "# intento 1\n",
    "#your code\n",
    "\n",
    "# intento 2\n",
    "#your code"
   ]
  },
  {
   "cell_type": "code",
   "execution_count": 3,
   "id": "bb16d0e3-3bb9-4f2b-944e-8fc35e628701",
   "metadata": {},
   "outputs": [],
   "source": [
    "# crea todas las celdas que necesites"
   ]
  },
  {
   "cell_type": "markdown",
   "id": "9e02b8f5-6f66-4e73-acfa-7f8c3977de2a",
   "metadata": {},
   "source": [
    "#### Notas y pruebas de apoyo para contestar las preguntas\n",
    "\n",
    "\n",
    "Cualquier código aunque no esté correcto nos dirá más de ti que no escribir nada. "
   ]
  },
  {
   "cell_type": "markdown",
   "id": "57d6b062-27f8-4377-b583-d662777b0bd7",
   "metadata": {},
   "source": [
    "__Debes subir este notebook a tu REPO PERSONAL__\n",
    "\n",
    "__Hora: hasta las 13:30 del 06/11/2024__"
   ]
  },
  {
   "cell_type": "markdown",
   "id": "062d81e8",
   "metadata": {},
   "source": [
    "#### Ejercicio 1\n",
    "\n",
    "Disponemos de una lista con información sobre varios empleados:\n",
    "\n",
    "    empleados = \n",
    "    [[12345, \"Juan Rodríguez\", 53, [\"Director financiero\"], 2],[56789, \"Laura Pérez\", 41, [\"CEO\", \"Director\", \"Gerente\"], 2],[88354, \"Pedro Álvarez\", 26, [\"Asistente\",\"Gestor comercial\"], 3]]\n",
    "\n",
    "Respecto de cada empleado, la lista contiene cinco elementos: en el primero almacenamos su tfno, en el segundo su nombre, en el tercero su edad, en el cuarto los puestos que ha desempeñado en la empresa (en forma de lista) y en el quinto su código postal.\n",
    "\n",
    "1. Siguiendo la misma estructura, incluye un nuevo empleado en la última posición de la lista empleados.\n",
    "\n",
    "2. Mostrar por pantalla, sin uso de funciones (salvo print) ni bucles: \n",
    "\n",
    "    - El nombre y la edad del tercer empleado de la lista empleados.\n",
    "    - Los puestos desempeñados por Pedro Álvarez, ordenados de atras a adelante (es decir, de Gestor comercial a Asistente)\n",
    "    - Si el nuevo empleado que has añadido tiene más o igual a 60 años, muestra por pantalla los puestos que el nuevo empleado haya desempeñado en la empresa. En caso contrario, muestra los puestos desempeñados por Laura Pérez y Juan Rodriguez."
   ]
  },
  {
   "cell_type": "code",
   "execution_count": 6,
   "id": "ae316b4b",
   "metadata": {},
   "outputs": [
    {
     "name": "stdout",
     "output_type": "stream",
     "text": [
      "[[12345, 'Juan Rodríguez', 53, ['Director financiero'], 2], [56789, 'Laura Pérez', 41, ['CEO', 'Director', 'Gerente'], 2], [88354, 'Pedro Álvarez', 26, ['Asistente', 'Gestor comercial'], 3], [173981, 'Mario Gómez', 29, ['Data Scientist', 'ML Ops'], 45600]]\n",
      "Pedro Álvarez 26\n",
      "['Gestor comercial', 'Asistente']\n",
      "['Director financiero'] ['CEO', 'Director', 'Gerente']\n"
     ]
    }
   ],
   "source": [
    " empleados = [[12345, \"Juan Rodríguez\", 53, [\"Director financiero\"], 2],[56789, \"Laura Pérez\", 41, [\"CEO\", \"Director\", \"Gerente\"], 2],[88354, \"Pedro Álvarez\", 26, [\"Asistente\",\"Gestor comercial\"], 3]]\n",
    "\n",
    "# Incluimos un nuevo empleado en la última posición de la lista empleados.\n",
    "empleados.append([173981, \"Mario Gómez\", 29, [\"Data Scientist\", \"ML Ops\"], 45600])\n",
    "print(empleados)\n",
    "\n",
    "# Mostramos el nombre y la edad del tercer empleado de la lista empleados\n",
    "print(empleados[2][1], empleados[2][2])\n",
    "\n",
    "# Mostramos los puestos desempeñados por Pedro Álvarez, ordenados de atrás a adelante (inverso)\n",
    "print(empleados[2][3][::-1])\n",
    "\n",
    "# Si el nuevo empleado que has añadido tiene más o igual a 60 años, muestra por pantalla los puestos que el nuevo empleado haya desempeñado en la empresa. En caso contrario, muestra los puestos desempeñados por Laura y Juan.\n",
    "if empleados[-1][2] >= 60:\n",
    "    print(empleados[-1][3])\n",
    "else:\n",
    "    print(empleados[0][3], empleados[1][3])"
   ]
  },
  {
   "cell_type": "markdown",
   "id": "4da89624-0da3-4f91-aa5c-a084c5ee1b17",
   "metadata": {},
   "source": [
    "#### Ejercicio 2. \n",
    "\n",
    "Escribe un programa que te diga si una letra es una consonante o una vocal. Crea tu propia **FUNCIÓN**\n"
   ]
  },
  {
   "cell_type": "code",
   "execution_count": 4,
   "id": "c58bf610-92de-4a5a-a00d-652279ea33dd",
   "metadata": {},
   "outputs": [
    {
     "data": {
      "text/plain": [
       "'La letra es consonante'"
      ]
     },
     "execution_count": 4,
     "metadata": {},
     "output_type": "execute_result"
    }
   ],
   "source": [
    "# Creamos nuestra propia función para que nos diga si una letra es vocal o consonante\n",
    "def consonante_vocal(letra):\n",
    "    # Normalicemos cualquier tipo de entrada para que no nos de error con las mayus\n",
    "    letra = letra.lower()\n",
    "\n",
    "    # Veremos si es vocal\n",
    "    if letra == \"aeiou\":\n",
    "        return \"La letra es vocal\"\n",
    "    elif letra.isalpha():\n",
    "        return \"La letra es consonante\"\n",
    "    else:\n",
    "        return \"No es una letra válida\"\n",
    "\n",
    "# Ejemplo:\n",
    "consonante_vocal(\"M\")\n"
   ]
  },
  {
   "cell_type": "markdown",
   "id": "52065a6c-3d4c-44c0-a10b-958506c481b3",
   "metadata": {},
   "source": [
    "#### Ejercicio 3. \n",
    "\n",
    "Escribe un programa que calcule la edad humana de un perro.\n",
    "Tienes que pedirle al usuario la edad del perro en años.\n",
    "Si el usuario introduce un número negativo, imprime que la cifra facilitada no tiene sentido. Si el perro tiene un año, son 14 años humanos. Si tiene 2 años, son 22 años humanos.\n",
    "A partir de los 2 años, el cálculo es el siguiente: a la edad del perro se le restan 2 años, el resultado se multiplica por 5 y, finalmente, se le suma 22.\n",
    "Usa una función sin argumentos de entrada ni de salida (muestra toda la información con print())"
   ]
  },
  {
   "cell_type": "code",
   "execution_count": null,
   "id": "9c59c801-1fe1-4a6d-a000-f85ca738ed00",
   "metadata": {},
   "outputs": [
    {
     "name": "stdout",
     "output_type": "stream",
     "text": [
      "La edad del perro es de 47 años\n"
     ]
    }
   ],
   "source": [
    "# Primero, crearemos una función\n",
    "def calcular_edad_humana_perro():\n",
    "\n",
    "    # Lo primero que debemos construir es un input para que el usuario introduzca la edad del perro en años\n",
    "    edad_perro = int(input(\"Por favor, introduce la edad del perro en años: \"))\n",
    "\n",
    "    # Ahora, prevendremos futuros errores si el usuario nos quiere engañar con un número negativo\n",
    "    if edad_perro < 0:\n",
    "        print(\"¿Es tu perro Benjamin Button versión inmortal?\")\n",
    "    elif edad_perro == 1:\n",
    "        print(\"La edad del perro es de 14 años humanos.\")\n",
    "    elif edad_perro == 2:\n",
    "        print(\"La edad del perro es de 22 años humanos.\")\n",
    "    else:\n",
    "        # Aplicamos la fórmula de que, si a la edad del perro se le restan 2 años, el resultado se multiplica por 5 y se le suma 22\n",
    "        edad_humana = (edad_perro - 2) * 5 + 22\n",
    "        print(f\"La edad del perro es de {edad_humana} años\")\n",
    "\n",
    "# Ejemplo: Calcularemos la edad de un perro que tenga 7 años\n",
    "calcular_edad_humana_perro()\n",
    "# Output: la edad del perro es de 47 años\n"
   ]
  },
  {
   "cell_type": "markdown",
   "id": "2991309f-4208-431a-900c-d9bc734bb936",
   "metadata": {},
   "source": [
    "#### Ejercicio 4. \n",
    "\n",
    "Escribe un programa que te diga si una frase es un pangrama. Un pangrama es una frase que contiene todas las letras del alfabeto.\n",
    "Puedes tener espacios en blanco, pero NO  tendrás signos de puntuación, a excepción de las tildes.\n",
    "\n",
    "Ejemplo de pangrama:\n",
    "\n",
    "Extraño pan de col y kiwi se quemó bajo fugaz vaho "
   ]
  },
  {
   "cell_type": "code",
   "execution_count": 6,
   "id": "9a349c1e-15ab-4253-97f8-2a07a263791d",
   "metadata": {},
   "outputs": [
    {
     "name": "stdout",
     "output_type": "stream",
     "text": [
      "Wow! La frase es un pangrama\n"
     ]
    }
   ],
   "source": [
    "# Empezamos definiendo la funcion\n",
    "def es_pangrama():\n",
    "\n",
    "    # Como en el ejercicio anterior, hay que introducir un input\n",
    "    frase = input(\"Introduce una frase: \")\n",
    "\n",
    "    # Como posteriormente tendremos que revisar si tiene todas las letras del alfabeto, nos vendrá bien normalizar los resultados por las mayúsculas y minúsculas\n",
    "    frase_norm = frase.lower()\n",
    "\n",
    "    # Ahora, creamos el alfabeto. Para ello usaremos un set\n",
    "    alfabeto = set(\"abcdefghijklmnñopqrstuvwxyz\")\n",
    "\n",
    "    # Ahora, convertimos la frase en un conjunto de letras únicas (sin espacios)\n",
    "    letras_frase = set(frase_norm.replace(\" \", \"\"))\n",
    "\n",
    "    # Y por último, miramos si la frase introducida tiene todas las letras o no\n",
    "    if alfabeto.issubset(letras_frase): # He encontrado un método que verifica si todos los elementos de un conjunto están incluido en otro conjunto.\n",
    "        print(\"Wow! La frase es un pangrama\")\n",
    "    else:\n",
    "        print(\"La frase no es un pangrama :()\")\n",
    "\n",
    "# Ejemplo: Hemos pedido a ChatGPT que nos de un pangrama diferente. Nos ha dado este: Jovencillo emponzoñado de whisky, ¡qué figurota exhibe! --> Comprobemoslo\n",
    "es_pangrama()"
   ]
  },
  {
   "cell_type": "markdown",
   "id": "3dbb76e0-79b2-45e8-9034-58ee9cbd82bb",
   "metadata": {},
   "source": [
    "#### Ejercicio 5. \n",
    "\n",
    "Escribe un programa que use diccionarios para traducir palabras entre varios idiomas.\n",
    "Deberás pedirle al usuario una palabra por teclado, ver si está en tu diccionario. En caso de que esté, deberás mostrar la traducción de esa palabra.\n",
    "\n",
    "Ejemplo de diccionario:\n",
    "\n",
    "```python\n",
    "{\"file\": \"Fichier\", \"new\": \"Nouveau\", \"open\": \"Ouvrir\", \"save\": \"Enregistrer\", \"save as\": \"Enregistrer sous\", \"print preview\": \"Apercu avant impressioner\", \"print\": \"Imprimer\", \"close\": \"Fermer\", \"exit\": \"Quitter\"}\n"
   ]
  },
  {
   "cell_type": "code",
   "execution_count": 12,
   "id": "88236123-e8ac-45da-87d0-134a88a690c1",
   "metadata": {},
   "outputs": [
    {
     "name": "stdout",
     "output_type": "stream",
     "text": [
      "La palabra window no está en el diccionario.\n",
      "La traducción de file es Fichier.\n"
     ]
    }
   ],
   "source": [
    "# Lo haremos con el diccionario del ejemplo. Para ello, asignaremos el diccionario a una variable llamada diccionario_ejemplo\n",
    "diccionario_ejemplo = {\"file\": \"Fichier\", \"new\": \"Nouveau\", \"open\": \"Ouvrir\", \"save\": \"Enregistrer\", \"save as\": \"Enregistrer sous\", \"print preview\": \"Apercu avant impressioner\", \"print\": \"Imprimer\", \"close\": \"Fermer\", \"exit\": \"Quitter\"}\n",
    "\n",
    "# Ahora, creamos la función:\n",
    "def traducir_palabra():\n",
    "\n",
    "    # Lo primero que tenemos que hacer es un input para pedir al usuario una palabra\n",
    "    palabra = input(\"Por favor, introduce una palabra en inglés para traducir al francés: \")\n",
    "\n",
    "    # Como anteriormente, prevengamos el uso de mayúsculas y minúsculas\n",
    "    palabra = palabra.lower()\n",
    "\n",
    "    # Ahora, si la palabra está en el diccionario, debemos traducirla. Y si no está, pues diremos que no está\n",
    "    if palabra in diccionario_ejemplo:\n",
    "        print(f\"La traducción de {palabra} es {diccionario_ejemplo[palabra]}.\")\n",
    "    else:\n",
    "        print(f\"La palabra {palabra} no está en el diccionario.\")\n",
    "\n",
    "# Ejemplo: Introduciremos file y luego introduciremos window\n",
    "traducir_palabra() # Con file nos da un output: La traducción de file es Fichier.\n",
    "traducir_palabra() # Con window nos da un output: La palabra window no está en el diccionario."
   ]
  },
  {
   "cell_type": "markdown",
   "id": "61967ca4-7e06-44b3-ad7b-adbc0e71671a",
   "metadata": {},
   "source": [
    "#### Ejercicio 6. (Bonus).\n",
    "\n",
    "Usando `OOP` modela un theremin (es un instrumento musical que se toca modificando el campo electromagnético, por si tenías curiosidad).\n",
    "Tendrá de atributos la marca, el modelo, el peso, la potencia y la batería.\n",
    "\n",
    "Todos los instrumentos se crean con un peso predeterminado de 500, una potencia de 50 y una batería de 200.\n",
    "\n",
    "Cuando se recarga la batería vale 200.\n",
    "\n",
    "Cuando se toca, se muestra por pantalla que está sonando y la batería disminuye 10 (no siendo nunca negativo).\n",
    "Si no hay batería, no puede sonar. Crea un instrumento, tócalo mientras quede batería, cárgalo y no lo vuelvas a tocar.\n"
   ]
  },
  {
   "cell_type": "code",
   "execution_count": null,
   "id": "8082c8cd-03a9-478e-aa72-4ec1306e1bb2",
   "metadata": {},
   "outputs": [
    {
     "ename": "",
     "evalue": "",
     "output_type": "error",
     "traceback": [
      "\u001b[1;31mThe Kernel crashed while executing code in the current cell or a previous cell. \n",
      "\u001b[1;31mPlease review the code in the cell(s) to identify a possible cause of the failure. \n",
      "\u001b[1;31mClick <a href='https://aka.ms/vscodeJupyterKernelCrash'>here</a> for more info. \n",
      "\u001b[1;31mView Jupyter <a href='command:jupyter.viewOutput'>log</a> for further details."
     ]
    }
   ],
   "source": [
    "# Es un claro ejercicio de clases\n",
    "\n",
    "class theremin: # Una vez definida la clase, configuramos el constructor\n",
    "    def __init__(self, marca, modelo): # Definimos así el constructor porque necesitaremos siempre marca y modelo, ya que el resto de atributos son predeterminados\n",
    "        self.marca = marca\n",
    "        self.modelo = modelo\n",
    "        self.peso = 500 # Peso predeterminado\n",
    "        self.potencia = 50 # Potencia predeterminada\n",
    "        self.bateria = 200 # Batería predeterminada\n",
    "    \n",
    "    # Definamos el método tocar\n",
    "    def tocar(self):\n",
    "        if self.bateria > 0:\n",
    "            print(f\"El theremin {self.marca} {self.modelo} está sonando.\")\n",
    "            # Recordemos que si se toca, la batería disminuye en 10\n",
    "            self.bateria -= 10\n",
    "            # Batería negativa no existe, lo prevenimos\n",
    "            if self.bateria < 0:\n",
    "                self.bateria = 0\n",
    "            print(f\"Batería restante: {self.bateria}\")\n",
    "        else:\n",
    "            print(\"No tienes batería en el theremin {self.marca} {self.modelo}\")\n",
    "    \n",
    "    # Definamos el método recargar batería\n",
    "    def recargar_bateria(self):\n",
    "        self.bateria = 200 # Indicamos 200 porque es el valor máximo predeterminado\n",
    "        print(\"Batería llena, ¡toca tu theremin {self.marca}{self.modelo}\")\n",
    "\n",
    "# Intenté usar el método while para descargar la batería y me crasheó el kernel :(\n",
    "\n",
    "        "
   ]
  },
  {
   "cell_type": "markdown",
   "id": "30f773b5-a6da-4446-b36b-722b2ee57730",
   "metadata": {},
   "source": [
    "#### Ejercicio 7. Extra (NO PUNTÚA).\n",
    "Una empresa usa dos listas  para guardar la información de sus empleados. Una lista guarda el nombre del empleado y la otra guarda su salario. Escribe un programa que cree esas dos listas originalmente vacías y que a través de un menú pueda hacer lo siguiente:\n",
    "    \n",
    "Inserta 1 para añadir un nuevo empleado y su salario\n",
    "\n",
    "Inserta 2 para imprimir los nombres y salarios de todos los empleados\n",
    "\n",
    "Inserta 3 para mostrar el número de empleados\n",
    "\n",
    "Inserta 4 para imprimir los nombres de los empleados con sueldos superiores a 400000\n",
    "\n",
    "Inserta 5 para subir un 5% los sueldos por debajo de 10000\n",
    "\n",
    "Inserta 6 para mostrar el total de todos los salarios\n",
    "\n",
    "Inserta 7 para salir del programa"
   ]
  },
  {
   "cell_type": "code",
   "execution_count": null,
   "id": "67858e27-b7f5-4e05-bc50-3fca698ad22a",
   "metadata": {},
   "outputs": [
    {
     "name": "stdout",
     "output_type": "stream",
     "text": [
      "\n",
      "\n",
      "¡Bienvenido!\n",
      "\n",
      "Inserta 1 para añadir un nuevo empleado y su salario\n",
      "Inserta 2 para imprimir los nombres y salarios de todos los empleados\n",
      "Inserta 3 para mostrar el número de empleados\n",
      "Inserta 4 para imprimir los nombres de los empleados con sueldos superiores a 400000\n",
      "Inserta 5 para subir un 5% los sueldos por debajo de 10000\n",
      "Inserta 6 para mostrar el total de todos los salarios\n",
      "Inserta 7 para salir del programa\n",
      "\n",
      "    \n",
      "\n",
      "Suma de todos los sueldos:  10000\n",
      "\n",
      "Cantidad de empleados:  1\n",
      "\n",
      "¡Gracias por usar el programa!\n"
     ]
    }
   ],
   "source": []
  },
  {
   "cell_type": "markdown",
   "id": "e33a0e21-476e-4103-b889-a6b3e76b99f3",
   "metadata": {},
   "source": [
    "\n",
    "####  Ejercicio 8. EXTRA (NO PUNTÚA).\n",
    "\n",
    "Escribe un programa que __USE RECURSIVIDAD__ para decidir cuál es la película de Pixar favorita de un usuario.\n",
    "El programa preguntará al usuario cuál de 2 películas es su favorita, y con esa favorita se le volverá a preguntar entre esa y otra película cuál es su favorita...y así hasta que el usuario haya decidido de entre todas cuál es su favorita.\n",
    "\n",
    "Pista: si no quieres cambiar una lista, usa copy() y tendrás una copia que es otro objeto\n",
    "\n"
   ]
  },
  {
   "cell_type": "code",
   "execution_count": null,
   "id": "c9936fd4-6d29-4535-9f34-a6f289d18d8b",
   "metadata": {},
   "outputs": [
    {
     "name": "stdout",
     "output_type": "stream",
     "text": [
      "Si prefieres Toy Story marca 1, si prefieres Soul marca 2: 1\n",
      "Prefieres Toy Story\n",
      "Si prefieres Toy Story marca 1, si prefieres Up marca 2: 2\n",
      "Prefieres Up\n",
      "Si prefieres Up marca 1, si prefieres Coco marca 2: 2\n",
      "Prefieres Coco\n",
      "Si prefieres Coco marca 1, si prefieres Luca marca 2: 1\n",
      "Prefieres Coco\n",
      "Si prefieres Coco marca 1, si prefieres Monsters marca 2: 2\n",
      "Prefieres Monsters\n",
      "Si prefieres Monsters marca 1, si prefieres Inside Out marca 2: 1\n",
      "Prefieres Monsters\n",
      "Si prefieres Monsters marca 1, si prefieres WallE marca 2: 2\n",
      "Prefieres WallE\n",
      "Si prefieres WallE marca 1, si prefieres Buscando a Nemo marca 2: 2\n",
      "Prefieres Buscando a Nemo\n",
      "Si prefieres Buscando a Nemo marca 1, si prefieres Los increíbles marca 2: 1\n",
      "Prefieres Buscando a Nemo\n",
      "\n",
      "Prefieres finalmente Buscando a Nemo\n"
     ]
    }
   ],
   "source": []
  },
  {
   "cell_type": "code",
   "execution_count": 1,
   "id": "10a7b881",
   "metadata": {},
   "outputs": [],
   "source": [
    "# FIN DEL EXAMEN"
   ]
  }
 ],
 "metadata": {
  "kernelspec": {
   "display_name": "Python 3",
   "language": "python",
   "name": "python3"
  },
  "language_info": {
   "codemirror_mode": {
    "name": "ipython",
    "version": 3
   },
   "file_extension": ".py",
   "mimetype": "text/x-python",
   "name": "python",
   "nbconvert_exporter": "python",
   "pygments_lexer": "ipython3",
   "version": "3.13.0"
  }
 },
 "nbformat": 4,
 "nbformat_minor": 5
}
